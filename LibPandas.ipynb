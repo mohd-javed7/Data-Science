{
 "cells": [
  {
   "cell_type": "markdown",
   "metadata": {},
   "source": [
    "# Pandas\n",
    "Pandas is built on top of NumPy.\n",
    "\n",
    "It provides two main data structures:\n",
    "1. Series → 1D labeled array (like a column in Excel).\n",
    "2. DataFrame → 2D labeled data (like a table in Excel)."
   ]
  },
  {
   "cell_type": "code",
   "execution_count": 2,
   "metadata": {},
   "outputs": [],
   "source": [
    "import pandas as pd"
   ]
  },
  {
   "cell_type": "code",
   "execution_count": 2,
   "metadata": {},
   "outputs": [
    {
     "name": "stdout",
     "output_type": "stream",
     "text": [
      "0    1\n",
      "1    2\n",
      "2    4\n",
      "3    5\n",
      "4    6\n",
      "dtype: int64\n",
      "a    1\n",
      "b    2\n",
      "c    3\n",
      "dtype: int64\n"
     ]
    }
   ],
   "source": [
    "s = pd.Series([1,2,4,5,6])\n",
    "s2 = pd.Series({\"a\":1,\"b\":2,\"c\":3})\n",
    "\n",
    "print(s)\n",
    "print(s2)"
   ]
  },
  {
   "cell_type": "code",
   "execution_count": 5,
   "metadata": {},
   "outputs": [
    {
     "name": "stdout",
     "output_type": "stream",
     "text": [
      "a    1\n",
      "b    2\n",
      "c    3\n",
      "d    4\n",
      "dtype: int64\n"
     ]
    }
   ],
   "source": [
    "series = pd.Series([1,2,3,4],index=['a','b','c','d'])\n",
    "print(series)"
   ]
  },
  {
   "cell_type": "code",
   "execution_count": 3,
   "metadata": {},
   "outputs": [
    {
     "name": "stdout",
     "output_type": "stream",
     "text": [
      "name     Nika\n",
      "age      1000\n",
      "fight     100\n",
      "Name: 1, dtype: object\n"
     ]
    }
   ],
   "source": [
    "data = pd.DataFrame({\n",
    "    \"name\": [\"Javed\",\"Nika\",\"Luffy\"],\n",
    "    \"age\": [21,1000,22],\n",
    "    \"fight\": [3,100,20]\n",
    "})\n",
    "# print(data)\n",
    "# print(data[[\"age\",\"fight\"]])\n",
    "print(data.iloc[1])\n",
    "# print(data.describe())\n",
    "# print(data[data[\"age\"]>22])\n",
    "# data[\"crew\"] = data[\"fight\"]>5\n",
    "# print(data)"
   ]
  },
  {
   "cell_type": "code",
   "execution_count": 39,
   "metadata": {},
   "outputs": [
    {
     "name": "stdout",
     "output_type": "stream",
     "text": [
      "    name  fight   crew\n",
      "0  Javed      3  False\n",
      "1   Nika    100   True\n",
      "2  Luffy     20   True\n",
      "    name  fight   crew\n",
      "0  Javed      3  False\n",
      "2  Luffy     20   True\n"
     ]
    }
   ],
   "source": [
    "data = data.drop(\"age\",axis=1)\n",
    "print(data)\n",
    "data = data.drop(1,axis=0)\n",
    "print(data)"
   ]
  },
  {
   "cell_type": "code",
   "execution_count": 44,
   "metadata": {},
   "outputs": [
    {
     "name": "stdout",
     "output_type": "stream",
     "text": [
      "    name  fight   crew\n",
      "0  Javed      3  False\n",
      "2  Luffy     20   True\n"
     ]
    }
   ],
   "source": [
    "data = data.drop(\"age\",axis=1).drop(1,axis=0)\n",
    "print(data)"
   ]
  },
  {
   "cell_type": "code",
   "execution_count": 48,
   "metadata": {},
   "outputs": [
    {
     "name": "stdout",
     "output_type": "stream",
     "text": [
      "    name   age\n",
      "1   Nika  1000\n",
      "2  Luffy    22\n"
     ]
    }
   ],
   "source": [
    "data = data.drop('fight',axis=1).drop(0,axis=0).drop('crew',axis=1)\n",
    "print(data)"
   ]
  },
  {
   "cell_type": "markdown",
   "metadata": {},
   "source": [
    "# CSV File (Comma Separated Values)\n",
    "- CSV files are like a text file with commas and when opened in excel it appears as Tables.\n",
    "- Here we'll learn about how to create a CSV file, read and write and convert CSV into DataFrame and vice versa."
   ]
  },
  {
   "cell_type": "code",
   "execution_count": 6,
   "metadata": {},
   "outputs": [
    {
     "name": "stdout",
     "output_type": "stream",
     "text": [
      "    name  age  eat  fight\n",
      "a  Javed   21    2  False\n",
      "b   Nika   22  200  False\n",
      "c   Zoro   24  140   True\n",
      "d  Sanji   24  100   True\n"
     ]
    }
   ],
   "source": [
    "data = pd.DataFrame({\n",
    "    \"name\":[\"Javed\",\"Nika\",\"Zoro\",\"Sanji\"],\n",
    "    \"age\":[21,22,24,24],\n",
    "    \"eat\":[2,200,140,100]\n",
    "},index=['a','b','c','d'])\n",
    "\n",
    "data.to_csv(\"one-piece.csv\",index=False) # Saving it as csv file\n",
    "\n",
    "df = pd.read_csv(\"one-piece.csv\")\n",
    "\n",
    "# print(df)\n",
    "\n",
    "data['fight'] = data['age']>22\n",
    "print(data)\n"
   ]
  },
  {
   "cell_type": "markdown",
   "metadata": {},
   "source": [
    "updating..."
   ]
  },
  {
   "cell_type": "code",
   "execution_count": 13,
   "metadata": {},
   "outputs": [
    {
     "name": "stdout",
     "output_type": "stream",
     "text": [
      "  Unnamed: 0   name  age  eat  fight\n",
      "0          a  Javed   21    2  False\n",
      "1          b   Nika   22  200  False\n",
      "2          c   Zoro   24  140   True\n",
      "3          d  Sanji   24  100   True\n"
     ]
    }
   ],
   "source": [
    "data.to_csv(\"one-piece.csv\",index=1)\n",
    "df= pd.read_csv(\"one-piece.csv\")\n",
    "print(df)"
   ]
  },
  {
   "cell_type": "code",
   "execution_count": 16,
   "metadata": {},
   "outputs": [
    {
     "name": "stdout",
     "output_type": "stream",
     "text": [
      "4\n"
     ]
    }
   ],
   "source": [
    "print(data[data[\"age\"]>20].shape[0])\n",
    "# print(data.loc['a'])\n",
    "# print(data['a':'d'])\n",
    "# print(data.loc['a',\"name\"])\n",
    "# print(data)\n",
    "# print(data.iloc[1,2])\n",
    "# print(data.loc['a':'c',[\"name\",\"age\"]])\n",
    "# print(data.iloc[1:3,[0,3]])"
   ]
  }
 ],
 "metadata": {
  "kernelspec": {
   "display_name": "Python 3",
   "language": "python",
   "name": "python3"
  },
  "language_info": {
   "codemirror_mode": {
    "name": "ipython",
    "version": 3
   },
   "file_extension": ".py",
   "mimetype": "text/x-python",
   "name": "python",
   "nbconvert_exporter": "python",
   "pygments_lexer": "ipython3",
   "version": "3.13.5"
  }
 },
 "nbformat": 4,
 "nbformat_minor": 2
}
