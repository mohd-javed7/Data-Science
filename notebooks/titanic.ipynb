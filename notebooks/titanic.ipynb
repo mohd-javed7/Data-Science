{
 "cells": [
  {
   "cell_type": "markdown",
   "metadata": {},
   "source": [
    "# Data exploration"
   ]
  },
  {
   "cell_type": "code",
   "execution_count": 1,
   "metadata": {},
   "outputs": [],
   "source": [
    "import pandas as pd\n",
    "import seaborn as sns"
   ]
  },
  {
   "cell_type": "code",
   "execution_count": 3,
   "metadata": {},
   "outputs": [
    {
     "name": "stdout",
     "output_type": "stream",
     "text": [
      "   survived  pclass     sex   age  sibsp  parch     fare embarked  class  \\\n",
      "0         0       3    male  22.0      1      0   7.2500        S  Third   \n",
      "1         1       1  female  38.0      1      0  71.2833        C  First   \n",
      "2         1       3  female  26.0      0      0   7.9250        S  Third   \n",
      "3         1       1  female  35.0      1      0  53.1000        S  First   \n",
      "4         0       3    male  35.0      0      0   8.0500        S  Third   \n",
      "\n",
      "     who  adult_male deck  embark_town alive  alone  \n",
      "0    man        True  NaN  Southampton    no  False  \n",
      "1  woman       False    C    Cherbourg   yes  False  \n",
      "2  woman       False  NaN  Southampton   yes   True  \n",
      "3  woman       False    C  Southampton   yes  False  \n",
      "4    man        True  NaN  Southampton    no   True  \n"
     ]
    }
   ],
   "source": [
    "titanic = sns.load_dataset('titanic')\n",
    "print(titanic.head())"
   ]
  },
  {
   "cell_type": "markdown",
   "metadata": {},
   "source": [
    "No. of total rows and columns."
   ]
  },
  {
   "cell_type": "code",
   "execution_count": 5,
   "metadata": {},
   "outputs": [
    {
     "name": "stdout",
     "output_type": "stream",
     "text": [
      "(891, 15)\n"
     ]
    }
   ],
   "source": [
    "print(titanic.shape)"
   ]
  },
  {
   "cell_type": "markdown",
   "metadata": {},
   "source": [
    "Column names and their data type"
   ]
  },
  {
   "cell_type": "code",
   "execution_count": 9,
   "metadata": {},
   "outputs": [
    {
     "name": "stdout",
     "output_type": "stream",
     "text": [
      "Index(['survived', 'pclass', 'sex', 'age', 'sibsp', 'parch', 'fare',\n",
      "       'embarked', 'class', 'who', 'adult_male', 'deck', 'embark_town',\n",
      "       'alive', 'alone'],\n",
      "      dtype='object')\n",
      "survived          int64\n",
      "pclass            int64\n",
      "sex              object\n",
      "age             float64\n",
      "sibsp             int64\n",
      "parch             int64\n",
      "fare            float64\n",
      "embarked         object\n",
      "class          category\n",
      "who              object\n",
      "adult_male         bool\n",
      "deck           category\n",
      "embark_town      object\n",
      "alive            object\n",
      "alone              bool\n",
      "dtype: object\n"
     ]
    }
   ],
   "source": [
    "print(titanic.columns)\n",
    "print(titanic.dtypes)"
   ]
  },
  {
   "cell_type": "markdown",
   "metadata": {},
   "source": [
    "Missing values and in which columns"
   ]
  },
  {
   "cell_type": "code",
   "execution_count": 8,
   "metadata": {},
   "outputs": [
    {
     "name": "stdout",
     "output_type": "stream",
     "text": [
      "survived         0\n",
      "pclass           0\n",
      "sex              0\n",
      "age            177\n",
      "sibsp            0\n",
      "parch            0\n",
      "fare             0\n",
      "embarked         2\n",
      "class            0\n",
      "who              0\n",
      "adult_male       0\n",
      "deck           688\n",
      "embark_town      2\n",
      "alive            0\n",
      "alone            0\n",
      "dtype: int64\n"
     ]
    }
   ],
   "source": [
    "print(titanic.isnull().sum())"
   ]
  },
  {
   "cell_type": "markdown",
   "metadata": {},
   "source": [
    "checking for duplicates."
   ]
  },
  {
   "cell_type": "code",
   "execution_count": 27,
   "metadata": {},
   "outputs": [
    {
     "name": "stdout",
     "output_type": "stream",
     "text": [
      "survived  pclass  sex     age   sibsp  parch  fare      embarked  class  who    adult_male  deck  embark_town  alive  alone\n",
      "1         1       female  14.0  1      2      120.0000  S         First  child  False       B     Southampton  yes    False    1\n",
      "                          15.0  0      1      211.3375  S         First  child  False       B     Southampton  yes    False    1\n",
      "                          16.0  0      0      86.5000   S         First  woman  False       B     Southampton  yes    True     1\n",
      "                                       1      39.4000   S         First  woman  False       D     Southampton  yes    False    1\n",
      "                                              57.9792   C         First  woman  False       B     Cherbourg    yes    False    1\n",
      "                                                                                                                              ..\n",
      "          3       female  4.0   1      1      16.7000   S         Third  child  False       G     Southampton  yes    False    1\n",
      "                          24.0  0      2      16.7000   S         Third  woman  False       G     Southampton  yes    False    1\n",
      "                          27.0  0      1      12.4750   S         Third  woman  False       E     Southampton  yes    False    1\n",
      "                  male    6.0   0      1      12.4750   S         Third  child  False       E     Southampton  yes    False    1\n",
      "                          32.0  0      0      8.0500    S         Third  man    True        E     Southampton  yes    True     1\n",
      "Name: count, Length: 122, dtype: int64\n"
     ]
    }
   ],
   "source": [
    "# print(titanic.duplicated().sum())\n",
    "unique_passengers = titanic.drop_duplicates()\n",
    "# print(len(unique_passengers))\n",
    "# print(unique_passengers['sex'].value_counts())\n",
    "print(unique_passengers[unique_passengers[\"survived\"]==1].value_counts())"
   ]
  },
  {
   "cell_type": "code",
   "execution_count": 13,
   "metadata": {},
   "outputs": [
    {
     "name": "stdout",
     "output_type": "stream",
     "text": [
      "0    False\n",
      "1    False\n",
      "2    False\n",
      "3    False\n",
      "4     True\n",
      "5    False\n",
      "6    False\n",
      "7    False\n",
      "8    False\n",
      "9    False\n",
      "dtype: bool\n"
     ]
    }
   ],
   "source": [
    "print(titanic.duplicated(keep=False).head(10))"
   ]
  },
  {
   "cell_type": "markdown",
   "metadata": {},
   "source": [
    "How many passengers survived vs didn't "
   ]
  },
  {
   "cell_type": "code",
   "execution_count": 20,
   "metadata": {},
   "outputs": [
    {
     "name": "stdout",
     "output_type": "stream",
     "text": [
      "survived\n",
      "0    549\n",
      "1    342\n",
      "Name: count, dtype: int64\n"
     ]
    }
   ],
   "source": [
    "# print(titanic[titanic[\"survived\"]==1].count())\n",
    "print(titanic[\"survived\"].value_counts())\n",
    "titanic[titanic[\"survived\"]==1].to_csv(\"survived_titanic.csv\",index=False)"
   ]
  },
  {
   "cell_type": "markdown",
   "metadata": {},
   "source": [
    "How many passengers were male or female."
   ]
  },
  {
   "cell_type": "code",
   "execution_count": null,
   "metadata": {},
   "outputs": [
    {
     "name": "stdout",
     "output_type": "stream",
     "text": [
      "sex\n",
      "male      577\n",
      "female    314\n",
      "Name: count, dtype: int64\n"
     ]
    }
   ],
   "source": [
    "print(titanic['sex'].value_counts())"
   ]
  },
  {
   "cell_type": "code",
   "execution_count": 36,
   "metadata": {},
   "outputs": [
    {
     "name": "stdout",
     "output_type": "stream",
     "text": [
      "sex\n",
      "female    233\n",
      "male      109\n",
      "Name: count, dtype: int64\n"
     ]
    }
   ],
   "source": [
    "df = pd.read_csv(\"survived_titanic.csv\")\n",
    "\n",
    "print(df['sex'].value_counts())\n",
    "# print(len(df.drop_duplicates()))"
   ]
  },
  {
   "cell_type": "markdown",
   "metadata": {},
   "source": [
    "Distribution of ages"
   ]
  },
  {
   "cell_type": "code",
   "execution_count": 31,
   "metadata": {},
   "outputs": [
    {
     "name": "stdout",
     "output_type": "stream",
     "text": [
      "count    714.000000\n",
      "mean      29.699118\n",
      "std       14.526497\n",
      "min        0.420000\n",
      "25%       20.125000\n",
      "50%       28.000000\n",
      "75%       38.000000\n",
      "max       80.000000\n",
      "Name: age, dtype: float64\n"
     ]
    }
   ],
   "source": [
    "print(titanic['age'].describe())"
   ]
  },
  {
   "cell_type": "markdown",
   "metadata": {},
   "source": [
    "Survival rates based on sex"
   ]
  },
  {
   "cell_type": "code",
   "execution_count": 37,
   "metadata": {},
   "outputs": [
    {
     "name": "stdout",
     "output_type": "stream",
     "text": [
      "sex\n",
      "male      64.758698\n",
      "female    35.241302\n",
      "Name: proportion, dtype: float64\n",
      "Survival rates\n",
      "sex\n",
      "female    68.128655\n",
      "male      31.871345\n",
      "Name: proportion, dtype: float64\n"
     ]
    }
   ],
   "source": [
    "print(titanic[\"sex\"].value_counts(normalize=True)*100)\n",
    "print(\"Survival rates\")\n",
    "print(df['sex'].value_counts(normalize=True)*100)"
   ]
  },
  {
   "cell_type": "markdown",
   "metadata": {},
   "source": [
    "Survival rates based on Pclass"
   ]
  },
  {
   "cell_type": "code",
   "execution_count": 39,
   "metadata": {},
   "outputs": [
    {
     "name": "stdout",
     "output_type": "stream",
     "text": [
      "Normal Pclass rates\n",
      "pclass\n",
      "3    55.106622\n",
      "1    24.242424\n",
      "2    20.650954\n",
      "Name: proportion, dtype: float64\n",
      "pclass\n",
      "1    39.766082\n",
      "3    34.795322\n",
      "2    25.438596\n",
      "Name: proportion, dtype: float64\n"
     ]
    }
   ],
   "source": [
    "print(\"Normal Pclass rates\")\n",
    "print(titanic['pclass'].value_counts(normalize=True)*100)\n",
    "print(df['pclass'].value_counts(normalize=True)*100)"
   ]
  },
  {
   "cell_type": "markdown",
   "metadata": {},
   "source": [
    "What was the survival rate for children (<18) vs adults?"
   ]
  },
  {
   "cell_type": "code",
   "execution_count": 48,
   "metadata": {},
   "outputs": [
    {
     "name": "stdout",
     "output_type": "stream",
     "text": [
      "children survival rate: 53.98230088495575%\n",
      "Adults survival rate: 38.10316139767055%\n"
     ]
    }
   ],
   "source": [
    "# print(f\"Children: {titanic[titanic['age']<18].shape[0]}\\nAdults: {titanic[titanic['age']>18].shape[0]}\")\n",
    "# print(f\"Children: {df[df['age']<18].shape[0]}\\nAdults: {df[df['age']>18].shape[0]}\")\n",
    "\n",
    "children = titanic[titanic[\"age\"]<18]\n",
    "adults = titanic[titanic['age']>=18]\n",
    "\n",
    "c_rate = children['survived'].mean()*100\n",
    "a_rate = adults['survived'].mean()*100\n",
    "print(f\"children survival rate: {c_rate}%\\nAdults survival rate: {a_rate}%\")"
   ]
  },
  {
   "cell_type": "markdown",
   "metadata": {},
   "source": [
    "Which port did most passengers embark from?"
   ]
  },
  {
   "cell_type": "code",
   "execution_count": 53,
   "metadata": {},
   "outputs": [
    {
     "name": "stdout",
     "output_type": "stream",
     "text": [
      "embarked\n",
      "S    644\n",
      "Name: count, dtype: int64\n"
     ]
    }
   ],
   "source": [
    "print(titanic['embarked'].value_counts().head(1))"
   ]
  },
  {
   "cell_type": "markdown",
   "metadata": {},
   "source": [
    "Did family size (siblings/spouses + parents/children) affect survival?\n",
    "\n",
    "Who was the oldest survivor? Who was the youngest?"
   ]
  },
  {
   "cell_type": "code",
   "execution_count": 67,
   "metadata": {},
   "outputs": [
    {
     "name": "stdout",
     "output_type": "stream",
     "text": [
      "family-mem\n",
      "0.0    0.375796\n",
      "1.0    0.449438\n",
      "2.0    0.403846\n",
      "3.0    0.363636\n",
      "4.0    0.300000\n",
      "5.0    0.400000\n",
      "6.0    0.000000\n",
      "8.0    0.000000\n",
      "Name: survived, dtype: float64\n",
      "family-mem\n",
      "0.0    157\n",
      "1.0     89\n",
      "2.0     52\n",
      "3.0     22\n",
      "4.0     10\n",
      "5.0      5\n",
      "8.0      4\n",
      "6.0      3\n",
      "Name: count, dtype: int64\n"
     ]
    }
   ],
   "source": [
    "# print(titanic['sibsp'].value_counts())\n",
    "# print(titanic['parch'].value_counts())\n",
    "\n",
    "# print(\"Survivers Info:\")\n",
    "# print(df['parch'].value_counts())\n",
    "# print(df['sibsp'].value_counts())\n",
    "\n",
    "titanic['family-mem'] = titanic['sibsp'] + df['parch']\n",
    "print(titanic.groupby('family-mem')['survived'].mean())\n",
    "print(titanic['family-mem'].value_counts())"
   ]
  },
  {
   "cell_type": "code",
   "execution_count": 4,
   "metadata": {},
   "outputs": [
    {
     "name": "stdout",
     "output_type": "stream",
     "text": [
      "Oldest person onboard: 80.0\n",
      "Youngest person onboard: 0.42\n"
     ]
    }
   ],
   "source": [
    "print(f\"Oldest person onboard: {titanic['age'].max()}\\nYoungest person onboard: {titanic['age'].min()}\")"
   ]
  }
 ],
 "metadata": {
  "kernelspec": {
   "display_name": "Python 3",
   "language": "python",
   "name": "python3"
  },
  "language_info": {
   "codemirror_mode": {
    "name": "ipython",
    "version": 3
   },
   "file_extension": ".py",
   "mimetype": "text/x-python",
   "name": "python",
   "nbconvert_exporter": "python",
   "pygments_lexer": "ipython3",
   "version": "3.13.5"
  }
 },
 "nbformat": 4,
 "nbformat_minor": 2
}
