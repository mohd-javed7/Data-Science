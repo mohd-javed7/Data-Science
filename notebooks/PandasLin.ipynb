{
 "cells": [
  {
   "cell_type": "markdown",
   "metadata": {},
   "source": [
    "# Sorting and Ranking"
   ]
  },
  {
   "cell_type": "code",
   "execution_count": 1,
   "metadata": {},
   "outputs": [],
   "source": [
    "import pandas as pd\n",
    "import seaborn as sns\n",
    "import numpy as np"
   ]
  },
  {
   "cell_type": "code",
   "execution_count": 2,
   "metadata": {},
   "outputs": [],
   "source": [
    "titanic = sns.load_dataset(\"titanic\")"
   ]
  },
  {
   "cell_type": "code",
   "execution_count": 39,
   "metadata": {},
   "outputs": [
    {
     "name": "stdout",
     "output_type": "stream",
     "text": [
      "   survived  pclass     sex   age  sibsp  parch     fare embarked  class  \\\n",
      "0         0       3    male  22.0      1      0   7.2500        S  Third   \n",
      "1         1       1  female  38.0      1      0  71.2833        C  First   \n",
      "2         1       3  female  26.0      0      0   7.9250        S  Third   \n",
      "3         1       1  female  35.0      1      0  53.1000        S  First   \n",
      "4         0       3    male  35.0      0      0   8.0500        S  Third   \n",
      "\n",
      "     who  adult_male deck  embark_town alive  alone  \n",
      "0    man        True  NaN  Southampton    no  False  \n",
      "1  woman       False    C    Cherbourg   yes  False  \n",
      "2  woman       False  NaN  Southampton   yes   True  \n",
      "3  woman       False    C  Southampton   yes  False  \n",
      "4    man        True  NaN  Southampton    no   True  \n"
     ]
    }
   ],
   "source": [
    "ages = titanic.sort_values(\"age\",ascending=True).head(10)\n",
    "twoFactor = titanic.sort_values([\"pclass\",\"fare\"],ascending=[True,True]).head()\n",
    "sIndex = titanic.sort_index().head()\n",
    "print(sIndex) # when you know the index are outplaced meaning the positions are not up with indexs using sort_index makes it algined with actual index value position"
   ]
  },
  {
   "cell_type": "markdown",
   "metadata": {},
   "source": [
    "# Grouping and Aggregation"
   ]
  },
  {
   "cell_type": "code",
   "execution_count": 12,
   "metadata": {},
   "outputs": [
    {
     "name": "stdout",
     "output_type": "stream",
     "text": [
      "pclass\n",
      "1    38.233441\n",
      "2    29.877630\n",
      "3    25.140620\n",
      "Name: age, dtype: float64\n",
      "             mean   min   max  count      sum\n",
      "pclass                                       \n",
      "1       38.233441  0.92  80.0    186  7111.42\n",
      "2       29.877630  0.67  70.0    173  5168.83\n",
      "3       25.140620  0.42  74.0    355  8924.92\n"
     ]
    }
   ],
   "source": [
    "print(titanic.groupby(\"pclass\")[\"age\"].mean())\n",
    "print(titanic.groupby('pclass')[\"age\"].agg([\"mean\",\"min\",\"max\",\"count\",\"sum\"]))"
   ]
  },
  {
   "cell_type": "markdown",
   "metadata": {},
   "source": [
    "- 📌 Phase 4: Handling Missing Data\n",
    "- 📌 Phase 5: Apply Functions"
   ]
  },
  {
   "cell_type": "markdown",
   "metadata": {},
   "source": [
    "# Concatenation, Merging and Join"
   ]
  },
  {
   "cell_type": "code",
   "execution_count": 3,
   "metadata": {},
   "outputs": [
    {
     "data": {
      "text/html": [
       "<div>\n",
       "<style scoped>\n",
       "    .dataframe tbody tr th:only-of-type {\n",
       "        vertical-align: middle;\n",
       "    }\n",
       "\n",
       "    .dataframe tbody tr th {\n",
       "        vertical-align: top;\n",
       "    }\n",
       "\n",
       "    .dataframe thead th {\n",
       "        text-align: right;\n",
       "    }\n",
       "</style>\n",
       "<table border=\"1\" class=\"dataframe\">\n",
       "  <thead>\n",
       "    <tr style=\"text-align: right;\">\n",
       "      <th></th>\n",
       "      <th>A</th>\n",
       "      <th>B</th>\n",
       "      <th>A</th>\n",
       "      <th>B</th>\n",
       "    </tr>\n",
       "  </thead>\n",
       "  <tbody>\n",
       "    <tr>\n",
       "      <th>0</th>\n",
       "      <td>1</td>\n",
       "      <td>3</td>\n",
       "      <td>1</td>\n",
       "      <td>3</td>\n",
       "    </tr>\n",
       "    <tr>\n",
       "      <th>1</th>\n",
       "      <td>2</td>\n",
       "      <td>4</td>\n",
       "      <td>2</td>\n",
       "      <td>4</td>\n",
       "    </tr>\n",
       "  </tbody>\n",
       "</table>\n",
       "</div>"
      ],
      "text/plain": [
       "   A  B  A  B\n",
       "0  1  3  1  3\n",
       "1  2  4  2  4"
      ]
     },
     "execution_count": 3,
     "metadata": {},
     "output_type": "execute_result"
    }
   ],
   "source": [
    "# Concatenantion\n",
    "\n",
    "df = pd.DataFrame({'A':[1,2],'B':[3,4]})\n",
    "df1 = pd.DataFrame({'A':[1,2],'B':[3,4]})\n",
    "\n",
    "pd.concat([df,df1],axis=1)\n",
    "# by default it's in vertical stack that is axis=0"
   ]
  },
  {
   "cell_type": "code",
   "execution_count": 38,
   "metadata": {},
   "outputs": [
    {
     "data": {
      "text/html": [
       "<div>\n",
       "<style scoped>\n",
       "    .dataframe tbody tr th:only-of-type {\n",
       "        vertical-align: middle;\n",
       "    }\n",
       "\n",
       "    .dataframe tbody tr th {\n",
       "        vertical-align: top;\n",
       "    }\n",
       "\n",
       "    .dataframe thead th {\n",
       "        text-align: right;\n",
       "    }\n",
       "</style>\n",
       "<table border=\"1\" class=\"dataframe\">\n",
       "  <thead>\n",
       "    <tr style=\"text-align: right;\">\n",
       "      <th></th>\n",
       "      <th>id</th>\n",
       "      <th>name</th>\n",
       "      <th>marks</th>\n",
       "    </tr>\n",
       "  </thead>\n",
       "  <tbody>\n",
       "    <tr>\n",
       "      <th>0</th>\n",
       "      <td>2</td>\n",
       "      <td>Nika</td>\n",
       "      <td>98</td>\n",
       "    </tr>\n",
       "    <tr>\n",
       "      <th>1</th>\n",
       "      <td>3</td>\n",
       "      <td>Luffy</td>\n",
       "      <td>99</td>\n",
       "    </tr>\n",
       "  </tbody>\n",
       "</table>\n",
       "</div>"
      ],
      "text/plain": [
       "   id   name  marks\n",
       "0   2   Nika     98\n",
       "1   3  Luffy     99"
      ]
     },
     "execution_count": 38,
     "metadata": {},
     "output_type": "execute_result"
    }
   ],
   "source": [
    "# Merge\n",
    "\n",
    "l = pd.DataFrame({\"id\":[1,2,3],\"name\":[\"Javed\",\"Nika\",\"Luffy\"]})\n",
    "r = pd.DataFrame({\"id\":[2,3,4],\"marks\":[98,99,33]})\n",
    "\n",
    "pd.merge(l,r, on=\"id\",how=\"inner\")\n",
    "\n",
    "# how=\"inner\": matches the right and left and shows that only.\n",
    "# how=\"left\" : shows the left all and fills missing right with NaN.\n",
    "# how=\"right\": shows the all right and fills missing left with NaN.\n",
    "# how=\"outer\": shows both and fills missing with NaN.\n"
   ]
  },
  {
   "cell_type": "code",
   "execution_count": 34,
   "metadata": {},
   "outputs": [
    {
     "data": {
      "text/html": [
       "<div>\n",
       "<style scoped>\n",
       "    .dataframe tbody tr th:only-of-type {\n",
       "        vertical-align: middle;\n",
       "    }\n",
       "\n",
       "    .dataframe tbody tr th {\n",
       "        vertical-align: top;\n",
       "    }\n",
       "\n",
       "    .dataframe thead th {\n",
       "        text-align: right;\n",
       "    }\n",
       "</style>\n",
       "<table border=\"1\" class=\"dataframe\">\n",
       "  <thead>\n",
       "    <tr style=\"text-align: right;\">\n",
       "      <th></th>\n",
       "      <th>name</th>\n",
       "      <th>marks</th>\n",
       "    </tr>\n",
       "  </thead>\n",
       "  <tbody>\n",
       "    <tr>\n",
       "      <th>a</th>\n",
       "      <td>Javed</td>\n",
       "      <td>99</td>\n",
       "    </tr>\n",
       "    <tr>\n",
       "      <th>b</th>\n",
       "      <td>Nika</td>\n",
       "      <td>98</td>\n",
       "    </tr>\n",
       "    <tr>\n",
       "      <th>c</th>\n",
       "      <td>Luffy</td>\n",
       "      <td>33</td>\n",
       "    </tr>\n",
       "  </tbody>\n",
       "</table>\n",
       "</div>"
      ],
      "text/plain": [
       "    name  marks\n",
       "a  Javed     99\n",
       "b   Nika     98\n",
       "c  Luffy     33"
      ]
     },
     "execution_count": 34,
     "metadata": {},
     "output_type": "execute_result"
    }
   ],
   "source": [
    "# Joins\n",
    "\n",
    "df = pd.DataFrame({\"name\":[\"Javed\",\"Nika\",\"Luffy\"]}, index=['a','b','c'])\n",
    "df2 = pd.DataFrame({\"marks\":[99,98,33]},index=['a','b','c'])\n",
    "\n",
    "df.join(df2)"
   ]
  },
  {
   "cell_type": "markdown",
   "metadata": {},
   "source": [
    "# Missing Values"
   ]
  },
  {
   "cell_type": "code",
   "execution_count": 16,
   "metadata": {},
   "outputs": [
    {
     "name": "stdout",
     "output_type": "stream",
     "text": [
      "Name    0\n",
      "Age     2\n",
      "Fare    1\n",
      "dtype: int64\n"
     ]
    }
   ],
   "source": [
    "df = pd.DataFrame({\n",
    "    'Name': ['Alice','Bob','Charlie','David'],\n",
    "    'Age': [25, np.nan, 30, np.nan],\n",
    "    'Fare':[100, 200, np.nan, 150]\n",
    "})\n",
    "\n",
    "# print(df.isnull())\n",
    "print(df.isnull().sum())"
   ]
  },
  {
   "cell_type": "code",
   "execution_count": 46,
   "metadata": {},
   "outputs": [
    {
     "data": {
      "text/html": [
       "<div>\n",
       "<style scoped>\n",
       "    .dataframe tbody tr th:only-of-type {\n",
       "        vertical-align: middle;\n",
       "    }\n",
       "\n",
       "    .dataframe tbody tr th {\n",
       "        vertical-align: top;\n",
       "    }\n",
       "\n",
       "    .dataframe thead th {\n",
       "        text-align: right;\n",
       "    }\n",
       "</style>\n",
       "<table border=\"1\" class=\"dataframe\">\n",
       "  <thead>\n",
       "    <tr style=\"text-align: right;\">\n",
       "      <th></th>\n",
       "      <th>Name</th>\n",
       "    </tr>\n",
       "  </thead>\n",
       "  <tbody>\n",
       "    <tr>\n",
       "      <th>0</th>\n",
       "      <td>Alice</td>\n",
       "    </tr>\n",
       "    <tr>\n",
       "      <th>1</th>\n",
       "      <td>Bob</td>\n",
       "    </tr>\n",
       "    <tr>\n",
       "      <th>2</th>\n",
       "      <td>Charlie</td>\n",
       "    </tr>\n",
       "    <tr>\n",
       "      <th>3</th>\n",
       "      <td>David</td>\n",
       "    </tr>\n",
       "  </tbody>\n",
       "</table>\n",
       "</div>"
      ],
      "text/plain": [
       "      Name\n",
       "0    Alice\n",
       "1      Bob\n",
       "2  Charlie\n",
       "3    David"
      ]
     },
     "execution_count": 46,
     "metadata": {},
     "output_type": "execute_result"
    }
   ],
   "source": [
    "# dropna() removes columns or rows with missing values\n",
    "\n",
    "df.dropna() # default rows\n",
    "df.dropna(axis=1)"
   ]
  },
  {
   "cell_type": "code",
   "execution_count": null,
   "metadata": {},
   "outputs": [
    {
     "name": "stdout",
     "output_type": "stream",
     "text": [
      "0    25.0\n",
      "1    27.5\n",
      "2    30.0\n",
      "3    27.5\n",
      "Name: Age, dtype: float64\n"
     ]
    }
   ],
   "source": [
    "# fillna() fills the missing values with provided value.\n",
    "\n",
    "df = df['Age'].fillna(df['Age'].mean())\n",
    "# df.fillna(method='ffill')\n"
   ]
  },
  {
   "cell_type": "markdown",
   "metadata": {},
   "source": [
    "Question: Remove all rows where any value is missing."
   ]
  },
  {
   "cell_type": "code",
   "execution_count": 6,
   "metadata": {},
   "outputs": [
    {
     "name": "stdout",
     "output_type": "stream",
     "text": [
      "    Name   Age  Score\n",
      "0   Aman  25.0   85.0\n",
      "3  Karan  28.0   70.0\n"
     ]
    }
   ],
   "source": [
    "data = pd.DataFrame({\n",
    "    'Name': ['Aman', 'Riya', np.nan, 'Karan', 'Meera'],\n",
    "    'Age': [25, np.nan, 30, 28, np.nan],\n",
    "    'Score': [85, 90, np.nan, 70, 95]\n",
    "})\n",
    "# data.to_csv(\"testing.csv\",index=False)\n",
    "print(data.dropna())"
   ]
  },
  {
   "cell_type": "markdown",
   "metadata": {},
   "source": [
    "Question: From the same DataFrame, fill missing Age values with the column’s mean and missing Name values with \"Unknown\"."
   ]
  },
  {
   "cell_type": "code",
   "execution_count": 18,
   "metadata": {},
   "outputs": [
    {
     "name": "stdout",
     "output_type": "stream",
     "text": [
      "    Name   Age  Score\n",
      "0   Aman  25.0   85.0\n",
      "1   Riya   NaN   90.0\n",
      "2    NaN  30.0    NaN\n",
      "3  Karan  28.0   70.0\n",
      "4  Meera   NaN   95.0\n",
      "      Name        Age  Score\n",
      "0     Aman  25.000000   85.0\n",
      "1     Riya  27.666667   90.0\n",
      "2  Unknown  30.000000    NaN\n",
      "3    Karan  28.000000   70.0\n",
      "4    Meera  27.666667   95.0\n"
     ]
    }
   ],
   "source": [
    "data = pd.DataFrame({\n",
    "    'Name': ['Aman', 'Riya', np.nan, 'Karan', 'Meera'],\n",
    "    'Age': [25, np.nan, 30, 28, np.nan],\n",
    "    'Score': [85, 90, np.nan, 70, 95]\n",
    "})\n",
    "print(data)\n",
    "data[\"Age\"]=data['Age'].fillna(data['Age'].mean())\n",
    "data['Name']=data['Name'].fillna(\"Unknown\")\n",
    "print(data)"
   ]
  },
  {
   "cell_type": "markdown",
   "metadata": {},
   "source": [
    "Question: Fill missing values in Sales using forward fill first, and then try interpolation. Compare the results."
   ]
  },
  {
   "cell_type": "code",
   "execution_count": null,
   "metadata": {},
   "outputs": [
    {
     "name": "stdout",
     "output_type": "stream",
     "text": [
      "123.33333333333333\n",
      "118.33333333333333\n",
      "125.0\n"
     ]
    },
    {
     "name": "stderr",
     "output_type": "stream",
     "text": [
      "C:\\Users\\Administrator\\AppData\\Local\\Temp\\ipykernel_7528\\3409546907.py:9: FutureWarning: Series.fillna with 'method' is deprecated and will raise in a future version. Use obj.ffill() or obj.bfill() instead.\n",
      "  print(df2[\"Sales\"].fillna(method='ffill').mean()) # using forward fill to calculate mean last known value( best when we know it would retain value.)\n"
     ]
    }
   ],
   "source": [
    "df2 = pd.DataFrame({\n",
    "    'Day': [1, 2, 3, 4, 5, 6],\n",
    "    'Sales': [100, np.nan, 120, np.nan, np.nan, 150]\n",
    "})\n",
    "# Original\n",
    "print(df2[\"Sales\"].mean()) # mean with NaN values original mean\n",
    "\n",
    "# Forward Fill\n",
    "print(df2[\"Sales\"].fillna(method='ffill').mean()) # using forward fill to calculate mean last known value( best when we know it would retain value.)\n",
    "\n",
    "# Interpolation\n",
    "print(df2[\"Sales\"].interpolate().mean()) # interpolate fills missing value by linearly estimating between known points.\n",
    "\n",
    "# Compare: The original mean is with missing values can't know for sure but still valid. \n",
    "#          The forward fill filled with last known value best for when we know value stay like that until next update eg. stock price etc\n",
    "#          The interpolate is best in my opinion as we can just estimate the missing value between points best for when we know trends will go smooth overtime."
   ]
  },
  {
   "cell_type": "markdown",
   "metadata": {},
   "source": [
    "# Apply \n",
    "used for applying function on dataFrames or series (even custom ones)."
   ]
  },
  {
   "cell_type": "code",
   "execution_count": 42,
   "metadata": {},
   "outputs": [
    {
     "name": "stdout",
     "output_type": "stream",
     "text": [
      "    Name  Score\n",
      "0   Aman     85\n",
      "1   Riya     90\n",
      "2  Karan     70\n",
      "3  Meera     95\n",
      "4  Javed     42\n",
      "    Name  Score  Name_length\n",
      "0   Aman     85            4\n",
      "1   Riya     90            4\n",
      "2  Karan     70            5\n",
      "3  Meera     95            5\n",
      "4  Javed     42            5\n",
      "Name           AmanRiyaKaranMeeraJaved\n",
      "Score                              382\n",
      "Name_length                         23\n",
      "dtype: object\n",
      "Name           AmanRiyaKaranMeeraJaved\n",
      "Score                              382\n",
      "Name_length                         23\n",
      "dtype: object\n",
      "Name           AmanRiyaKaranMeeraJaved\n",
      "Score                              382\n",
      "Name_length                         23\n",
      "dtype: object\n",
      "    Name  Score  Name_length Result\n",
      "0   Aman     85            4   Pass\n",
      "1   Riya     90            4   Pass\n",
      "2  Karan     70            5   Fail\n",
      "3  Meera     95            5   Pass\n",
      "4  Javed     42            5   Fail\n"
     ]
    }
   ],
   "source": [
    "data = pd.DataFrame({\n",
    "    'Name': ['Aman', 'Riya', 'Karan', 'Meera',\"Javed\"],\n",
    "    'Score': [85, 90, 70, 95,32]\n",
    "})\n",
    "\n",
    "def bonusScore(Score):\n",
    "    if(Score<33):\n",
    "        return Score + 10\n",
    "    return Score\n",
    "\n",
    "# print(data['Score'].apply(lambda x: x**2))\n",
    "# print(data['Score'].apply(bonusScore))\n",
    "data['Score'] = data['Score'].apply(bonusScore)\n",
    "print(data)\n",
    "\n",
    "# Create a new column Name_Length that stores the length of each name using .apply().\n",
    "\n",
    "def name_length(Name):\n",
    "    return len(Name)\n",
    "\n",
    "\n",
    "data['Name_length'] = data['Name'].apply(name_length)\n",
    "print(data)\n",
    "\n",
    "# Use .apply() on the whole DataFrame to find the sum of each column.\n",
    "\n",
    "print(data.apply(lambda x: x.sum(),axis=0))\n",
    "#other ways to solve\n",
    "print(data.sum(axis=0))\n",
    "print(data.iloc[:].sum(axis=0))\n",
    "\n",
    "# Use a lambda function to categorize Score into \"Pass\" if ≥ 75 else \"Fail\" and store in new column.\n",
    "\n",
    "data[\"Result\"] = data[\"Score\"].apply(lambda x: \"Pass\" if x>= 75 else \"Fail\")\n",
    "print(data)"
   ]
  }
 ],
 "metadata": {
  "kernelspec": {
   "display_name": "Python 3",
   "language": "python",
   "name": "python3"
  },
  "language_info": {
   "codemirror_mode": {
    "name": "ipython",
    "version": 3
   },
   "file_extension": ".py",
   "mimetype": "text/x-python",
   "name": "python",
   "nbconvert_exporter": "python",
   "pygments_lexer": "ipython3",
   "version": "3.13.5"
  }
 },
 "nbformat": 4,
 "nbformat_minor": 2
}
