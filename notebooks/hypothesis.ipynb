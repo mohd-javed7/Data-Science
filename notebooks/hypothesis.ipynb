{
 "cells": [
  {
   "cell_type": "markdown",
   "metadata": {},
   "source": [
    "# Scenario:\n",
    "A cereal company claims that the average weight of their cereal boxes is 500g.\n",
    "A quality control team collects a random sample of 40 boxes and finds:\n",
    "\n",
    "Sample mean = 495g\n",
    "\n",
    "Population standard deviation = 12g\n",
    "\n",
    "Significance level (α) = 0.05"
   ]
  },
  {
   "cell_type": "markdown",
   "metadata": {},
   "source": [
    "# Task:\n",
    "\n",
    "State the null and alternative hypotheses.\n",
    "\n",
    "Perform z-test.\n",
    "\n",
    "Decide whether to reject or fail to reject H₀ using the critical value method."
   ]
  },
  {
   "cell_type": "code",
   "execution_count": null,
   "metadata": {},
   "outputs": [],
   "source": [
    "pip install scipy\n"
   ]
  },
  {
   "cell_type": "code",
   "execution_count": 5,
   "metadata": {},
   "outputs": [
    {
     "name": "stdout",
     "output_type": "stream",
     "text": [
      "Z-score:  0.5270462766947299\n",
      "P-Value:  0.5981614526835282\n",
      "Fail to Reject H0\n"
     ]
    }
   ],
   "source": [
    "import math\n",
    "from scipy.stats import norm\n",
    "\n",
    "\n",
    "#Given\n",
    "\n",
    "mu = 500\n",
    "mean = 501\n",
    "alpha = 0.05\n",
    "n = 40\n",
    "sd = 12\n",
    "\n",
    "se = sd / math.sqrt(n) # standard error\n",
    "\n",
    "z = (mean - mu) / se # z-score\n",
    "\n",
    "p = 2*( 1 - norm.cdf(abs(z)))\n",
    "\n",
    "print(\"Z-score: \",z)\n",
    "print(\"P-Value: \",p)\n",
    "\n",
    "if(p<=alpha):\n",
    "    print(\"Reject H0: Average weight of the cereal Boxes is 500g.\")\n",
    "else:\n",
    "    print(\"Fail to Reject H0\")"
   ]
  }
 ],
 "metadata": {
  "kernelspec": {
   "display_name": "Python 3",
   "language": "python",
   "name": "python3"
  },
  "language_info": {
   "codemirror_mode": {
    "name": "ipython",
    "version": 3
   },
   "file_extension": ".py",
   "mimetype": "text/x-python",
   "name": "python",
   "nbconvert_exporter": "python",
   "pygments_lexer": "ipython3",
   "version": "3.13.5"
  }
 },
 "nbformat": 4,
 "nbformat_minor": 2
}
