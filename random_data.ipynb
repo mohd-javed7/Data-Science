{
 "cells": [
  {
   "cell_type": "markdown",
   "metadata": {},
   "source": [
    "# Random Data\n",
    "Starting with python for Data science with some random data"
   ]
  },
  {
   "cell_type": "code",
   "execution_count": 3,
   "metadata": {},
   "outputs": [
    {
     "name": "stdout",
     "output_type": "stream",
     "text": [
      "[12, 34, 56, 65, 77, 87, 98, 23, 45, 77, 23, 46, 66, 23, 12, 34, 56, 65, 77, 87, 98, 23, 45, 77, 23, 46, 66, 23]\n"
     ]
    }
   ],
   "source": [
    "data = [12,34,56,65,77,87,98,23,45,77,23,46,66,23]\n",
    "print(data *2)"
   ]
  },
  {
   "cell_type": "code",
   "execution_count": null,
   "metadata": {},
   "outputs": [
    {
     "name": "stdout",
     "output_type": "stream",
     "text": [
      "[65 77 87 98 77 66]\n"
     ]
    }
   ],
   "source": [
    "import numpy as np  # type: ignore\n",
    "grades = np.array(data)\n",
    "print(grades[grades > 60])"
   ]
  },
  {
   "cell_type": "code",
   "execution_count": 11,
   "metadata": {},
   "outputs": [],
   "source": [
    "stdy_hours = [12,3,6,7,9,8,26,21,6,17,2,1,2,2]\n",
    "student_data = np.array([stdy_hours,grades])"
   ]
  },
  {
   "cell_type": "code",
   "execution_count": 12,
   "metadata": {},
   "outputs": [
    {
     "name": "stdout",
     "output_type": "stream",
     "text": [
      "Average study time: 8.714285714285714\n",
      "Average grade: 52.285714285714285\n"
     ]
    }
   ],
   "source": [
    "average_hours = student_data[0].mean()\n",
    "average_grages = student_data[1].mean()\n",
    "print(f'Average study time: {average_hours}\\nAverage grade: {average_grages}')"
   ]
  }
 ],
 "metadata": {
  "kernelspec": {
   "display_name": "Python 3",
   "language": "python",
   "name": "python3"
  },
  "language_info": {
   "codemirror_mode": {
    "name": "ipython",
    "version": 3
   },
   "file_extension": ".py",
   "mimetype": "text/x-python",
   "name": "python",
   "nbconvert_exporter": "python",
   "pygments_lexer": "ipython3",
   "version": "3.13.5"
  }
 },
 "nbformat": 4,
 "nbformat_minor": 2
}
