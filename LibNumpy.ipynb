{
 "cells": [
  {
   "cell_type": "markdown",
   "metadata": {},
   "source": [
    "# Numpy\n",
    "\n",
    "Create a NumPy array of numbers from 1 to 20 and extract all even numbers."
   ]
  },
  {
   "cell_type": "code",
   "execution_count": 2,
   "metadata": {},
   "outputs": [
    {
     "data": {
      "text/plain": [
       "array([ 0,  2,  4,  6,  8, 10, 12, 14, 16, 18, 20])"
      ]
     },
     "execution_count": 2,
     "metadata": {},
     "output_type": "execute_result"
    }
   ],
   "source": [
    "import numpy as np\n",
    "\n",
    "np.arange(0,21,2) "
   ]
  },
  {
   "cell_type": "code",
   "execution_count": 7,
   "metadata": {},
   "outputs": [
    {
     "data": {
      "text/plain": [
       "array([ 0,  2,  4,  6,  8, 10, 12, 14, 16, 18, 20])"
      ]
     },
     "execution_count": 7,
     "metadata": {},
     "output_type": "execute_result"
    }
   ],
   "source": [
    "num = np.arange(0,21)\n",
    "even = num[num%2==0]\n",
    "even"
   ]
  },
  {
   "cell_type": "markdown",
   "metadata": {},
   "source": [
    "Generate a 3x3 NumPy array of random integers between 10 and 50. Find the maximum and minimum values"
   ]
  },
  {
   "cell_type": "code",
   "execution_count": 15,
   "metadata": {},
   "outputs": [
    {
     "data": {
      "text/plain": [
       "array([[19, 45, 27],\n",
       "       [45, 23, 15],\n",
       "       [32, 44, 36]], dtype=int32)"
      ]
     },
     "execution_count": 15,
     "metadata": {},
     "output_type": "execute_result"
    }
   ],
   "source": [
    "np.random.randint(10,51,(3,3))"
   ]
  },
  {
   "cell_type": "markdown",
   "metadata": {},
   "source": [
    "Create a 3×3 matrix with values from 1 to 9 using np.arange() and reshape."
   ]
  },
  {
   "cell_type": "code",
   "execution_count": 17,
   "metadata": {},
   "outputs": [
    {
     "data": {
      "text/plain": [
       "array([[1, 2, 3],\n",
       "       [4, 5, 6],\n",
       "       [7, 8, 9]])"
      ]
     },
     "execution_count": 17,
     "metadata": {},
     "output_type": "execute_result"
    }
   ],
   "source": [
    "np.arange(1,10).reshape(3,3)"
   ]
  },
  {
   "cell_type": "markdown",
   "metadata": {},
   "source": [
    "Generate a 4×4 matrix of random integers between 10 and 50."
   ]
  },
  {
   "cell_type": "code",
   "execution_count": 18,
   "metadata": {},
   "outputs": [
    {
     "data": {
      "text/plain": [
       "array([[17, 47, 32, 29],\n",
       "       [33, 14, 42, 22],\n",
       "       [16, 35, 22, 31],\n",
       "       [40, 45, 24, 20]], dtype=int32)"
      ]
     },
     "execution_count": 18,
     "metadata": {},
     "output_type": "execute_result"
    }
   ],
   "source": [
    "np.random.randint(10,51,(4,4))"
   ]
  },
  {
   "cell_type": "markdown",
   "metadata": {},
   "source": [
    "From the array [10, 20, 30, 40, 50], extract:\n",
    "\n",
    "the first element\n",
    "\n",
    "the last element\n",
    "\n",
    "the middle three elements"
   ]
  },
  {
   "cell_type": "code",
   "execution_count": 19,
   "metadata": {},
   "outputs": [
    {
     "name": "stdout",
     "output_type": "stream",
     "text": [
      "10\n",
      "50\n",
      "[20 30 40]\n"
     ]
    }
   ],
   "source": [
    "arr = np.array([10,20,30,40,50])\n",
    "print(arr[0])\n",
    "print(arr[-1])\n",
    "print(arr[1:-1])"
   ]
  },
  {
   "cell_type": "markdown",
   "metadata": {},
   "source": [
    "From the matrix\n",
    "[[ 5, 10, 15],\n",
    " [20, 25, 30],\n",
    " [35, 40, 45]]\n",
    "\n",
    "select:\n",
    "\n",
    "the element in row 2, column 3\n",
    "\n",
    "the entire second row\n",
    "\n",
    "the entire third column"
   ]
  },
  {
   "cell_type": "code",
   "execution_count": 30,
   "metadata": {},
   "outputs": [
    {
     "name": "stdout",
     "output_type": "stream",
     "text": [
      "30\n",
      "[20 25 30]\n",
      "[15 30 45]\n"
     ]
    }
   ],
   "source": [
    "mat = np.array([[ 5, 10, 15],\n",
    " [20, 25, 30],\n",
    " [35, 40, 45]]\n",
    ")\n",
    "\n",
    "print(mat[1][2])\n",
    "print(mat[1])\n",
    "print(mat[:,2])"
   ]
  },
  {
   "cell_type": "markdown",
   "metadata": {},
   "source": [
    "Create an array of even numbers between 0 and 50.\n",
    "Then create another array of odd numbers between 0 and 50."
   ]
  },
  {
   "cell_type": "code",
   "execution_count": 35,
   "metadata": {},
   "outputs": [
    {
     "name": "stdout",
     "output_type": "stream",
     "text": [
      "[ 0  2  4  6  8 10 12 14 16 18 20 22 24 26 28 30 32 34 36 38 40 42 44 46\n",
      " 48 50]\n",
      "[ 1  3  5  7  9 11 13 15 17 19 21 23 25 27 29 31 33 35 37 39 41 43 45 47\n",
      " 49]\n"
     ]
    }
   ],
   "source": [
    "even = np.arange(0,51,2)\n",
    "odd = np.arange(1,50,2)\n",
    "print(even)\n",
    "print(odd)"
   ]
  },
  {
   "cell_type": "markdown",
   "metadata": {},
   "source": [
    "Make a 5×5 matrix filled with ones, and replace the diagonal with zeros."
   ]
  },
  {
   "cell_type": "code",
   "execution_count": 43,
   "metadata": {},
   "outputs": [
    {
     "data": {
      "text/plain": [
       "array([[0., 1., 1., 1., 1.],\n",
       "       [1., 0., 1., 1., 1.],\n",
       "       [1., 1., 0., 1., 1.],\n",
       "       [1., 1., 1., 0., 1.],\n",
       "       [1., 1., 1., 1., 0.]])"
      ]
     },
     "execution_count": 43,
     "metadata": {},
     "output_type": "execute_result"
    }
   ],
   "source": [
    "matrix =np.ones((5,5))\n",
    "np.fill_diagonal(matrix,0)\n",
    "matrix"
   ]
  },
  {
   "cell_type": "markdown",
   "metadata": {},
   "source": [
    "Create a 3×3 random float matrix (values between 0 and 1).\n",
    "Find the maximum, minimum, and mean values."
   ]
  },
  {
   "cell_type": "code",
   "execution_count": 9,
   "metadata": {},
   "outputs": [
    {
     "name": "stdout",
     "output_type": "stream",
     "text": [
      "0.08951225223515802\n",
      "0.9605287241303565\n",
      "0.5188732230664068\n"
     ]
    }
   ],
   "source": [
    "mat = np.random.rand(3,3)\n",
    "\n",
    "print(np.min(mat))\n",
    "print(np.max(mat))\n",
    "print(np.mean(mat))"
   ]
  },
  {
   "cell_type": "markdown",
   "metadata": {},
   "source": [
    "Create a 2×5 matrix using np.linspace() to generate 10 numbers between 0 and 1."
   ]
  },
  {
   "cell_type": "code",
   "execution_count": 13,
   "metadata": {},
   "outputs": [
    {
     "data": {
      "text/plain": [
       "array([[0.        , 0.11111111, 0.22222222, 0.33333333, 0.44444444],\n",
       "       [0.55555556, 0.66666667, 0.77777778, 0.88888889, 1.        ]])"
      ]
     },
     "execution_count": 13,
     "metadata": {},
     "output_type": "execute_result"
    }
   ],
   "source": [
    "m = np.linspace(0,1,10).reshape(2,5)\n",
    "m"
   ]
  },
  {
   "cell_type": "markdown",
   "metadata": {},
   "source": [
    "Given an array of numbers from 1 to 30, extract only those numbers which are divisible by 3 and 5."
   ]
  },
  {
   "cell_type": "code",
   "execution_count": 22,
   "metadata": {},
   "outputs": [
    {
     "name": "stdout",
     "output_type": "stream",
     "text": [
      "[ 3  6  9 12 15 18 21 24 27 30]\n",
      "[ 5 10 15 20 25 30]\n",
      "[15 30]\n"
     ]
    }
   ],
   "source": [
    "arr = np.arange(1,31)\n",
    "divBy3 = arr[arr % 3 == 0]\n",
    "divBy5 = arr[arr % 5 == 0]\n",
    "divBy3and5 = arr[(arr % 3 == 0) &(arr % 5 == 0)]\n",
    "print(divBy3)\n",
    "print(divBy5)\n",
    "print(divBy3and5)"
   ]
  },
  {
   "cell_type": "markdown",
   "metadata": {},
   "source": [
    "# 📝 NumPy Intermediate Questions"
   ]
  },
  {
   "cell_type": "markdown",
   "metadata": {},
   "source": [
    "Create a 4×4 matrix of random integers between 1 and 50.\n",
    "\n",
    "Find the mean of each column.\n",
    "\n",
    "Find the mean of each row."
   ]
  },
  {
   "cell_type": "code",
   "execution_count": 36,
   "metadata": {},
   "outputs": [
    {
     "name": "stdout",
     "output_type": "stream",
     "text": [
      "mean of Col 1 : 23.25\n",
      "mean of Row 1 : 24.25 \n",
      "mean of Col 2 : 24.75\n",
      "mean of Row 2 : 26.75 \n",
      "mean of Col 3 : 28.25\n",
      "mean of Row 3 : 32.0 \n",
      "mean of Col 4 : 30.25\n",
      "mean of Row 4 : 23.5 \n"
     ]
    }
   ],
   "source": [
    "mat = np.random.randint(1,51,(4,4))\n",
    "c = 0\n",
    "r = 0\n",
    "for i in range(4):\n",
    "    print(f\"mean of Col {c+1} : {np.mean(mat[:,c])}\")\n",
    "    print(f\"mean of Row {r+1} : {np.mean(mat[r])} \")\n",
    "    c = c+1\n",
    "    r = r+1"
   ]
  },
  {
   "cell_type": "code",
   "execution_count": null,
   "metadata": {},
   "outputs": [
    {
     "name": "stdout",
     "output_type": "stream",
     "text": [
      "Mean of colums: [28.75 21.   12.25 19.75]\n",
      "mean of Rows : [26.75 19.5   5.25 30.25]\n"
     ]
    }
   ],
   "source": [
    "mat = np.random.randint(1,51,(4,4))\n",
    "\n",
    "col = np.mean(mat,axis=0)\n",
    "row = np.mean(mat,axis=1)\n",
    "print(f\"Mean of colums: {col}\")\n",
    "print(f\"mean of Rows : {row}\")"
   ]
  },
  {
   "cell_type": "markdown",
   "metadata": {},
   "source": [
    "Given the matrix\n",
    "[[10, 20, 30],\n",
    " [40, 50, 60],\n",
    " [70, 80, 90]]\n",
    "\n",
    "Extract the sum of the 2nd column.\n",
    "Extract the mean of the 3rd row."
   ]
  },
  {
   "cell_type": "code",
   "execution_count": 40,
   "metadata": {},
   "outputs": [
    {
     "name": "stdout",
     "output_type": "stream",
     "text": [
      "150\n",
      "80.0\n"
     ]
    }
   ],
   "source": [
    "mat = np.array([[10, 20, 30],\n",
    " [40, 50, 60],\n",
    " [70, 80, 90]]\n",
    ")\n",
    "print(np.sum(mat[:,1]))\n",
    "print(np.mean(mat[2]))"
   ]
  },
  {
   "cell_type": "markdown",
   "metadata": {},
   "source": [
    "Create a 5×5 random integer matrix (values between 1 and 100).\n",
    "\n",
    "Find all elements greater than 50.\n",
    "\n",
    "Replace all elements less than 20 with 0."
   ]
  },
  {
   "cell_type": "code",
   "execution_count": 51,
   "metadata": {},
   "outputs": [
    {
     "data": {
      "text/plain": [
       "array([[80, 66, 39, 63, 27],\n",
       "       [44,  0, 99, 59, 39],\n",
       "       [20, 21, 95,  0, 65],\n",
       "       [ 0, 59,  0, 30, 81],\n",
       "       [54,  0, 99,  0, 99]], dtype=int32)"
      ]
     },
     "execution_count": 51,
     "metadata": {},
     "output_type": "execute_result"
    }
   ],
   "source": [
    "mat = np.random.randint(1,101,(5,5))\n",
    "g50 = mat[mat > 50]\n",
    "\n",
    "mat[mat < 20] = 0\n",
    "mat"
   ]
  },
  {
   "cell_type": "markdown",
   "metadata": {},
   "source": [
    "Generate a 6×6 matrix with values from 1 to 36.\n",
    "\n",
    "Extract the main diagonal.\n",
    "\n",
    "Extract the secondary diagonal (top-right → bottom-left).\n",
    "\n",
    "Find the sum of both diagonals."
   ]
  },
  {
   "cell_type": "code",
   "execution_count": null,
   "metadata": {},
   "outputs": [
    {
     "name": "stdout",
     "output_type": "stream",
     "text": [
      "[ 1  8 15 22 29 36]\n",
      "[ 6 11 16 21 26 31]\n",
      "Sum of main diagonal : 111\n",
      "Sum of the seconday diagonal : 111\n"
     ]
    }
   ],
   "source": [
    "mat = np.arange(1,37).reshape(6,6)\n",
    "main = np.diag(mat)\n",
    "secondary = np.diag(np.fliplr(mat))\n",
    "print(f\"Sum of main diagonal : {np.sum(main)}\\nSum of the seconday diagonal : {np.sum(secondary)}\")"
   ]
  },
  {
   "cell_type": "markdown",
   "metadata": {},
   "source": [
    "Create a 3×5 random integer matrix (1–30).\n",
    "\n",
    "Find the maximum value of each column.\n",
    "\n",
    "Find the minimum value of each row.\n",
    "\n",
    "Find the index (row, col) of the overall maximum value."
   ]
  },
  {
   "cell_type": "code",
   "execution_count": 64,
   "metadata": {},
   "outputs": [
    {
     "name": "stdout",
     "output_type": "stream",
     "text": [
      "[30 29 20 21 30]\n",
      "[ 9 11 11]\n",
      "(array([1, 2]), array([4, 0]))\n"
     ]
    }
   ],
   "source": [
    "mat = np.random.randint(1,31,(3,5))\n",
    "\n",
    "print(np.max(mat,axis=0))\n",
    "print(np.min(mat,axis=1))\n",
    "i = np.max(mat)\n",
    "print(np.where(mat == i))"
   ]
  },
  {
   "cell_type": "markdown",
   "metadata": {},
   "source": [
    "# Array properties\n",
    "ndim,shape,itemsize,nbytes,Transpose"
   ]
  },
  {
   "cell_type": "code",
   "execution_count": 71,
   "metadata": {},
   "outputs": [
    {
     "name": "stdout",
     "output_type": "stream",
     "text": [
      "2\n",
      "(3, 3)\n",
      "8\n",
      "72\n",
      "[[10 20 30]\n",
      " [40 50 60]\n",
      " [70 80 90]]\n",
      "[[10 40 70]\n",
      " [20 50 80]\n",
      " [30 60 90]]\n"
     ]
    }
   ],
   "source": [
    "mat = np.array([[10, 20, 30],\n",
    " [40, 50, 60],\n",
    " [70, 80, 90]])\n",
    "\n",
    "print(np.ndim(mat))\n",
    "print(np.shape(mat))\n",
    "print(mat.itemsize)\n",
    "print(mat.nbytes)\n",
    "print(mat)\n",
    "print(mat.T)"
   ]
  },
  {
   "cell_type": "markdown",
   "metadata": {},
   "source": [
    "# Slicing"
   ]
  },
  {
   "cell_type": "code",
   "execution_count": 73,
   "metadata": {},
   "outputs": [
    {
     "name": "stdout",
     "output_type": "stream",
     "text": [
      "[2 4]\n"
     ]
    }
   ],
   "source": [
    "arr = np.arange(1,11)\n",
    "\n",
    "print(arr[1:5:2])"
   ]
  },
  {
   "cell_type": "code",
   "execution_count": null,
   "metadata": {},
   "outputs": [],
   "source": [
    "mat = np.array([[10, 20, 30],\n",
    " [40, 50, 60],\n",
    " [70, 80, 90]])\n",
    "\n"
   ]
  }
 ],
 "metadata": {
  "kernelspec": {
   "display_name": "Python 3",
   "language": "python",
   "name": "python3"
  },
  "language_info": {
   "codemirror_mode": {
    "name": "ipython",
    "version": 3
   },
   "file_extension": ".py",
   "mimetype": "text/x-python",
   "name": "python",
   "nbconvert_exporter": "python",
   "pygments_lexer": "ipython3",
   "version": "3.13.5"
  }
 },
 "nbformat": 4,
 "nbformat_minor": 2
}
